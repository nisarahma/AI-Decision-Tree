{
  "nbformat": 4,
  "nbformat_minor": 0,
  "metadata": {
    "kernelspec": {
      "display_name": "Python 3",
      "language": "python",
      "name": "python3"
    },
    "language_info": {
      "codemirror_mode": {
        "name": "ipython",
        "version": 3
      },
      "file_extension": ".py",
      "mimetype": "text/x-python",
      "name": "python",
      "nbconvert_exporter": "python",
      "pygments_lexer": "ipython3",
      "version": "3.7.3"
    },
    "colab": {
      "name": "AINisaaa.ipynb",
      "provenance": [],
      "collapsed_sections": []
    }
  },
  "cells": [
    {
      "cell_type": "code",
      "metadata": {
        "id": "7WcIYcajyZK3",
        "colab_type": "code",
        "colab": {}
      },
      "source": [
        "import numpy as np\n",
        "import math\n",
        "import matplotlib.pyplot as plt\n",
        "import random"
      ],
      "execution_count": 0,
      "outputs": []
    },
    {
      "cell_type": "code",
      "metadata": {
        "id": "vhXSeNAByZNa",
        "colab_type": "code",
        "colab": {}
      },
      "source": [
        "import pandas as pd\n",
        "import numpy as np\n",
        "import sys\n",
        "import re"
      ],
      "execution_count": 0,
      "outputs": []
    },
    {
      "cell_type": "code",
      "metadata": {
        "id": "zm85D1MAyZNp",
        "colab_type": "code",
        "colab": {}
      },
      "source": [
        "def decode(datatrain):\n",
        "    decoded_train = []\n",
        "    for col in datatrain:\n",
        "        rows = ''\n",
        "        for row in range(len(col)):\n",
        "            if row == 0:\n",
        "                if col[row] == '1':\n",
        "                    rows = rows + '100'\n",
        "                elif col[row] == '2':\n",
        "                    rows = rows + '010'\n",
        "                elif col[row] == '3':\n",
        "                    rows = rows + '001'\n",
        "            elif row == 1:\n",
        "                if col[row] == '1':\n",
        "                    rows = rows + '1000'\n",
        "                elif col[row] == '2':\n",
        "                    rows = rows + '0100'\n",
        "                elif col[row] == '3':\n",
        "                    rows = rows + '0010'\n",
        "                elif col[row] == '4':\n",
        "                    rows = rows + '0001'           \n",
        "            elif row == 2:\n",
        "                if col[row] == '1':\n",
        "                    rows = rows + '1000'\n",
        "                elif col[row] == '2':\n",
        "                    rows = rows + '0100'\n",
        "                elif col[row] == '3':\n",
        "                    rows = rows + '0010'\n",
        "                elif col[row] == '4':\n",
        "                    rows = rows + '0001'\n",
        "            elif row == 3:\n",
        "                if col[row] == '1':\n",
        "                    rows = rows + '100'\n",
        "                elif col[row] == '2':\n",
        "                    rows = rows + '010'\n",
        "                elif col[row] == '3':\n",
        "                    rows = rows + '001'\n",
        "            elif row == 4:        \n",
        "                if col[row] == '1':\n",
        "                    rows = rows + '10'\n",
        "                elif col[row] == '2':\n",
        "                    rows = rows + '01'\n",
        "        decoded_train.append(rows)\n",
        "    return decoded_train"
      ],
      "execution_count": 0,
      "outputs": []
    },
    {
      "cell_type": "code",
      "metadata": {
        "id": "C6hZq3OJyZN3",
        "colab_type": "code",
        "colab": {}
      },
      "source": [
        "def create_population(num_Chromosome = 50, bin_length = 15, max_rule = 10):\n",
        "    population = []\n",
        "    for i in range(num_Chromosome):\n",
        "        rule_length = np.random.randint(low = 1, high = max_rule)\n",
        "        population.append(''.join(str(x) for x in np.random.choice([0, 1], size=(rule_length*15))))\n",
        "    return population"
      ],
      "execution_count": 0,
      "outputs": []
    },
    {
      "cell_type": "code",
      "metadata": {
        "id": "D2f2zBwWyZOG",
        "colab_type": "code",
        "colab": {}
      },
      "source": [
        "def calculate_fitness(datatrain, chromosome):\n",
        "    jumlah = 0\n",
        "    for i in datatrain:\n",
        "        suhu = i[0:3]\n",
        "        waktu = i[3:7]\n",
        "        langit = i[7:11]\n",
        "        kelembapan = i[11:14]\n",
        "        \n",
        "        rule_length = 15\n",
        "        for j in range(int(len(chromosome)/rule_length)):\n",
        "            rule = chromosome[j*rule_length:(j+1)*rule_length]\n",
        "            suhu1 = rule[0:3]\n",
        "            waktu1 = rule[3:7]\n",
        "            langit1 = rule[7:11]\n",
        "            kelembapan1 = rule[11:14]\n",
        "           \n",
        "            trueS = False\n",
        "            for k in range(len(suhu)):\n",
        "              if suhu[k] == suhu1[k] and suhu1[k] == '1':\n",
        "                trueS = True\n",
        "                break\n",
        "            trueW = False\n",
        "            for u in range(len(waktu)):\n",
        "              if waktu[u] == waktu1[u] and waktu1[u] == '1':\n",
        "                trueW = True\n",
        "                break\n",
        "            trueL = False\n",
        "            for w in range(len(langit)):\n",
        "              if langit[w] == langit1[w] and langit1[w] == '1':\n",
        "                trueL = True\n",
        "                break\n",
        "            trueK = False\n",
        "            for y in range(len(kelembapan)):\n",
        "              if kelembapan[y] == kelembapan1[y] and kelembapan1[y] == '1':\n",
        "                trueK = True\n",
        "                break\n",
        "            trueT = i[len(i)-1] == rule[len(rule)-1]\n",
        "            if trueS and trueW and trueL and trueK and trueT:\n",
        "              jumlah = jumlah + 1\n",
        "              break\n",
        "    return jumlah/len(datatrain)\n",
        "            \n",
        "            \n",
        "            \n",
        "            \n",
        "            "
      ],
      "execution_count": 0,
      "outputs": []
    },
    {
      "cell_type": "code",
      "metadata": {
        "id": "1qGNBENKOo_6",
        "colab_type": "code",
        "colab": {}
      },
      "source": [
        "def crossover(parent1, parent2):\n",
        "    p1low = np.random.randint(low = 0, high = len(parent1))\n",
        "    p1high = np.random.randint(low = p1low, high = len(parent1))\n",
        "    \n",
        "    \n",
        "    p1 = p1high - p1low\n",
        "    gap = p1 % 15\n",
        "    \n",
        "    p2prob = [[p1low, p1low+p1], [p1low, p1low+gap], [p1high-p1,p1high], [p1high-gap,p1high]]\n",
        "    \n",
        "    p2 = p2prob[np.random.randint(low = 0, high = 4)]\n",
        "    \n",
        "    parent1new = parent1[0:p1low] + parent2[p2[0]:p2[1]] + parent1[p1high:len(parent1)]\n",
        "    parent2new = parent2[0:p2[0]] + parent1[p1low:p1high] + parent2[p2[1]:len(parent2)]\n",
        "    \n",
        "    return parent1new, parent2new"
      ],
      "execution_count": 0,
      "outputs": []
    },
    {
      "cell_type": "code",
      "metadata": {
        "id": "PDCeUR2qDa_K",
        "colab_type": "code",
        "colab": {}
      },
      "source": [
        "def mutasi(kromosom):\n",
        "    r = random.random()\n",
        "    if r > 0.01:\n",
        "      binerrandom = (''.join(str(x) for x in np.random.choice([0,1], size=len(kromosom))))\n",
        "      biner = ''\n",
        "      for i in range(len(binerrandom)):\n",
        "        if binerrandom[i] == '1':\n",
        "          if kromosom[i] == '0':\n",
        "            biner = biner + '1'\n",
        "          elif kromosom[i] == '1':\n",
        "            biner = biner + '0'\n",
        "        elif binerrandom[i] == '0':\n",
        "            biner = biner + kromosom[i]\n",
        "      return biner"
      ],
      "execution_count": 0,
      "outputs": []
    },
    {
      "cell_type": "code",
      "metadata": {
        "id": "-VPVCmikDdiW",
        "colab_type": "code",
        "colab": {}
      },
      "source": [
        "def get_probability(fitness_list):\n",
        "    total_fitness = np.sum(fitness_list)\n",
        "    relative_fitness = [f/total_fitness for f in fitness_list]\n",
        "    \n",
        "    prob_list = [np.sum(relative_fitness[:i+1]) for i in range (len(relative_fitness))]\n",
        "    \n",
        "    return prob_list"
      ],
      "execution_count": 0,
      "outputs": []
    },
    {
      "cell_type": "code",
      "metadata": {
        "id": "j4LmzA1GK6s0",
        "colab_type": "code",
        "colab": {}
      },
      "source": [
        ""
      ],
      "execution_count": 0,
      "outputs": []
    },
    {
      "cell_type": "code",
      "metadata": {
        "id": "ZqVzWaF6D8Y3",
        "colab_type": "code",
        "colab": {}
      },
      "source": [
        "def roulette_wheel(population,prob_list,nparent):\n",
        "    chosen = []\n",
        "    for _ in range(nparent):\n",
        "        r = random.random()\n",
        "        for i in range(len(population)):\n",
        "            if r <= prob_list[i]:\n",
        "                chosen.append(population[i])\n",
        "                break\n",
        "    return chosen            "
      ],
      "execution_count": 0,
      "outputs": []
    },
    {
      "cell_type": "code",
      "metadata": {
        "id": "CVteYcKHEDPO",
        "colab_type": "code",
        "colab": {}
      },
      "source": [
        "def good(population,fitness,datatrain):\n",
        "    selectedf = []\n",
        "    p1, p2 = np.sort(fitness)[len(fitness)-2:]\n",
        "    for i in range(len(population)):\n",
        "        if calculate_fitness(datatrain,population[i]) == p2:\n",
        "            selectedf.append(population[i])\n",
        "            break\n",
        "    for i in range(len(population)):\n",
        "        if calculate_fitness(datatrain,population[i]) == p1:\n",
        "            selectedf.append(population[i])\n",
        "            break\n",
        "    return selectedf  "
      ],
      "execution_count": 0,
      "outputs": []
    },
    {
      "cell_type": "code",
      "metadata": {
        "id": "WpSmBnEnEJ1z",
        "colab_type": "code",
        "colab": {}
      },
      "source": [
        "# read data train(data latih) using pandas for easy use\n",
        "datatrain = pd.read_csv('data_train.csv', header = None)"
      ],
      "execution_count": 0,
      "outputs": []
    },
    {
      "cell_type": "code",
      "metadata": {
        "id": "3jvWkDSiEg49",
        "colab_type": "code",
        "colab": {}
      },
      "source": [
        "# convert data train to numpy array, easy to access the value\n",
        "datatrain = np.asarray(datatrain)\n",
        "\n",
        "#remove \\t (means tab)\n",
        "regex = re.compile(r'[\\n\\r\\t]')\n",
        "datatrain = [regex.sub(\"\", i[0]) for i in datatrain]"
      ],
      "execution_count": 0,
      "outputs": []
    },
    {
      "cell_type": "code",
      "metadata": {
        "id": "QdxyGHKYFOLW",
        "colab_type": "code",
        "colab": {}
      },
      "source": [
        "decoded_datatrain = decode(datatrain)"
      ],
      "execution_count": 0,
      "outputs": []
    },
    {
      "cell_type": "code",
      "metadata": {
        "id": "5j2jBgNtGVWJ",
        "colab_type": "code",
        "colab": {}
      },
      "source": [
        "gen = 100"
      ],
      "execution_count": 0,
      "outputs": []
    },
    {
      "cell_type": "code",
      "metadata": {
        "id": "6SaPWyxxFYld",
        "colab_type": "code",
        "colab": {
          "base_uri": "https://localhost:8080/",
          "height": 1000
        },
        "outputId": "98f02d66-0ef2-4539-8e7e-92f050852f8d"
      },
      "source": [
        "for i in range(gen):\n",
        "    fitness = [calculate_fitness(decoded_datatrain, i) for i in population]\n",
        "    prob = get_probability(fitness)\n",
        "    new_pop = good(population,fitness, decoded_datatrain)\n",
        "    while (len(new_pop) < len(population)):\n",
        "        parent = roulette_wheel(population,prob,2)\n",
        "        child1, child2 = crossover(parent[0], parent[1])\n",
        "        offspring1 = mutasi(child1)\n",
        "        offspring2 = mutasi(child2)\n",
        "        \n",
        "        new_pop.append(child1)\n",
        "        new_pop.append(child2)\n",
        "    population = new_pop\n",
        "    \n",
        "    best = good(population,fitness, decoded_datatrain)\n",
        "    print(\"Akurasi\", calculate_fitness(decoded_datatrain, best[0])*100, \"%\")"
      ],
      "execution_count": 453,
      "outputs": [
        {
          "output_type": "stream",
          "text": [
            "accuracy 100.0 %\n",
            "accuracy 100.0 %\n",
            "accuracy 100.0 %\n",
            "accuracy 100.0 %\n",
            "accuracy 100.0 %\n",
            "accuracy 100.0 %\n",
            "accuracy 100.0 %\n",
            "accuracy 100.0 %\n",
            "accuracy 100.0 %\n",
            "accuracy 100.0 %\n",
            "accuracy 100.0 %\n",
            "accuracy 100.0 %\n",
            "accuracy 100.0 %\n",
            "accuracy 100.0 %\n",
            "accuracy 100.0 %\n",
            "accuracy 100.0 %\n",
            "accuracy 100.0 %\n",
            "accuracy 100.0 %\n",
            "accuracy 100.0 %\n",
            "accuracy 100.0 %\n",
            "accuracy 100.0 %\n",
            "accuracy 100.0 %\n",
            "accuracy 100.0 %\n",
            "accuracy 100.0 %\n",
            "accuracy 100.0 %\n",
            "accuracy 100.0 %\n",
            "accuracy 100.0 %\n",
            "accuracy 100.0 %\n",
            "accuracy 100.0 %\n",
            "accuracy 100.0 %\n",
            "accuracy 100.0 %\n",
            "accuracy 100.0 %\n",
            "accuracy 100.0 %\n",
            "accuracy 100.0 %\n",
            "accuracy 100.0 %\n",
            "accuracy 100.0 %\n",
            "accuracy 100.0 %\n",
            "accuracy 100.0 %\n",
            "accuracy 100.0 %\n",
            "accuracy 100.0 %\n",
            "accuracy 100.0 %\n",
            "accuracy 100.0 %\n",
            "accuracy 100.0 %\n",
            "accuracy 100.0 %\n",
            "accuracy 100.0 %\n",
            "accuracy 100.0 %\n",
            "accuracy 100.0 %\n",
            "accuracy 100.0 %\n",
            "accuracy 100.0 %\n",
            "accuracy 100.0 %\n",
            "accuracy 100.0 %\n",
            "accuracy 100.0 %\n",
            "accuracy 100.0 %\n",
            "accuracy 100.0 %\n",
            "accuracy 100.0 %\n",
            "accuracy 100.0 %\n",
            "accuracy 100.0 %\n",
            "accuracy 100.0 %\n",
            "accuracy 100.0 %\n",
            "accuracy 100.0 %\n",
            "accuracy 100.0 %\n",
            "accuracy 100.0 %\n",
            "accuracy 100.0 %\n",
            "accuracy 100.0 %\n",
            "accuracy 100.0 %\n",
            "accuracy 100.0 %\n",
            "accuracy 100.0 %\n",
            "accuracy 100.0 %\n",
            "accuracy 100.0 %\n",
            "accuracy 100.0 %\n",
            "accuracy 100.0 %\n",
            "accuracy 100.0 %\n",
            "accuracy 100.0 %\n",
            "accuracy 100.0 %\n",
            "accuracy 100.0 %\n",
            "accuracy 100.0 %\n",
            "accuracy 100.0 %\n",
            "accuracy 100.0 %\n",
            "accuracy 100.0 %\n",
            "accuracy 100.0 %\n",
            "accuracy 100.0 %\n",
            "accuracy 100.0 %\n",
            "accuracy 100.0 %\n",
            "accuracy 100.0 %\n",
            "accuracy 100.0 %\n",
            "accuracy 100.0 %\n",
            "accuracy 100.0 %\n",
            "accuracy 100.0 %\n",
            "accuracy 100.0 %\n",
            "accuracy 100.0 %\n",
            "accuracy 100.0 %\n",
            "accuracy 100.0 %\n",
            "accuracy 100.0 %\n",
            "accuracy 100.0 %\n",
            "accuracy 100.0 %\n",
            "accuracy 100.0 %\n",
            "accuracy 100.0 %\n",
            "accuracy 100.0 %\n",
            "accuracy 100.0 %\n",
            "accuracy 100.0 %\n"
          ],
          "name": "stdout"
        }
      ]
    },
    {
      "cell_type": "code",
      "metadata": {
        "id": "Qr5PxL1NUJKr",
        "colab_type": "code",
        "colab": {}
      },
      "source": [
        ""
      ],
      "execution_count": 0,
      "outputs": []
    },
    {
      "cell_type": "code",
      "metadata": {
        "id": "sN3zQST_GwEB",
        "colab_type": "code",
        "colab": {}
      },
      "source": [
        "# read data train(data latih) using pandas for easy use\n",
        "datauji = pd.read_csv('data_uji.csv', header = None)"
      ],
      "execution_count": 0,
      "outputs": []
    },
    {
      "cell_type": "code",
      "metadata": {
        "id": "iJmwd5zDSvzi",
        "colab_type": "code",
        "colab": {}
      },
      "source": [
        "# convert data train to numpy array, easy to access the value\n",
        "datauji= np.asarray(datauji)\n",
        "\n",
        "#remove \\t (means tab)\n",
        "regex = re.compile(r'[\\n\\r\\t]')\n",
        "datauji = [regex.sub(\"\", i[0]) for i in datauji]"
      ],
      "execution_count": 0,
      "outputs": []
    },
    {
      "cell_type": "code",
      "metadata": {
        "id": "xOutpEtDTNty",
        "colab_type": "code",
        "colab": {}
      },
      "source": [
        "decoded_datauji = decode(datauji)"
      ],
      "execution_count": 0,
      "outputs": []
    },
    {
      "cell_type": "code",
      "metadata": {
        "id": "NorIkbQYTbbZ",
        "colab_type": "code",
        "colab": {}
      },
      "source": [
        "def predict(dataset, chromosome):\n",
        "    predict = []\n",
        "    for i in dataset:\n",
        "        suhu = i[0:3]\n",
        "        waktu = i[3:7]\n",
        "        langit = i[7:11]\n",
        "        kelembapan = i[11:14]\n",
        "        \n",
        "        rule_length = 15\n",
        "        for j in range(int(len(chromosome)/rule_length)):\n",
        "            rule = chromosome[j*rule_length:(j+1)*rule_length]\n",
        "            \n",
        "            suhuc = rule[0:3]\n",
        "            waktuc = rule[3:7]\n",
        "            langitc = rule[7:11]\n",
        "            kelembapanc = rule[11:14]\n",
        "            \n",
        "            check = rulecheck(list(suhu), list(suhuc)) and rulecheck(list(waktu), list(waktuc)) and rulecheck(list(langit), list(langitc)) and rulecheck(list(kelembapan), list(kelembapanc))\n",
        "#             print(i, rule)\n",
        "#             print(rulecheck(list(suhu), list(suhuc)), rulecheck(list(waktu), list(waktuc)), rulecheck(list(langit), list(langitc)), rulecheck(list(kelembapan), list(kelembapanc)))\n",
        "            if check :\n",
        "                predict.append(rule[14])\n",
        "                break\n",
        "    return predict"
      ],
      "execution_count": 0,
      "outputs": []
    },
    {
      "cell_type": "code",
      "metadata": {
        "id": "WqWrws7jTpFO",
        "colab_type": "code",
        "colab": {}
      },
      "source": [
        "pred = predict(decoded_datatrain, best)"
      ],
      "execution_count": 0,
      "outputs": []
    },
    {
      "cell_type": "code",
      "metadata": {
        "id": "XXDZrqkyUp7R",
        "colab_type": "code",
        "colab": {}
      },
      "source": [
        "def ganti(pred):\n",
        "  for i in range(len(pred)):\n",
        "    if pred[i] == '0':\n",
        "      pred[i] = 'Ya'\n",
        "    elif pred[i] == '1':\n",
        "      pred[i] = 'Tidak' \n",
        "  return pred \n",
        "    "
      ],
      "execution_count": 0,
      "outputs": []
    },
    {
      "cell_type": "code",
      "metadata": {
        "id": "BzXEhG1BVQag",
        "colab_type": "code",
        "colab": {}
      },
      "source": [
        "output = ganti(pred)"
      ],
      "execution_count": 0,
      "outputs": []
    },
    {
      "cell_type": "code",
      "metadata": {
        "id": "Bdu10mV9WAhB",
        "colab_type": "code",
        "colab": {}
      },
      "source": [
        "with open(\"data_ujihasilpredict.csv\", \"w\") as buka:\n",
        "  for i in output:\n",
        "    buka.write(i)"
      ],
      "execution_count": 0,
      "outputs": []
    },
    {
      "cell_type": "code",
      "metadata": {
        "id": "NF7xLzpuX9Bt",
        "colab_type": "code",
        "colab": {}
      },
      "source": [
        ""
      ],
      "execution_count": 0,
      "outputs": []
    }
  ]
}